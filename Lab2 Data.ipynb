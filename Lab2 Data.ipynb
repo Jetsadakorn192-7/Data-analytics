{
  "nbformat": 4,
  "nbformat_minor": 0,
  "metadata": {
    "colab": {
      "provenance": [],
      "authorship_tag": "ABX9TyOezTQ1i3CPp5vf/n8A040o",
      "include_colab_link": true
    },
    "kernelspec": {
      "name": "python3",
      "display_name": "Python 3"
    },
    "language_info": {
      "name": "python"
    }
  },
  "cells": [
    {
      "cell_type": "markdown",
      "metadata": {
        "id": "view-in-github",
        "colab_type": "text"
      },
      "source": [
        "<a href=\"https://colab.research.google.com/github/Jetsadakorn192-7/Data-analytics/blob/main/Lab%20Data.ipynb\" target=\"_parent\"><img src=\"https://colab.research.google.com/assets/colab-badge.svg\" alt=\"Open In Colab\"/></a>"
      ]
    },
    {
      "cell_type": "markdown",
      "source": [
        "# Logistic Regression"
      ],
      "metadata": {
        "id": "F8d6pkDnMsed"
      }
    },
    {
      "cell_type": "code",
      "execution_count": null,
      "metadata": {
        "id": "tt47u9wFlcIg"
      },
      "outputs": [],
      "source": [
        "import pandas as pd\n",
        "import numpy as np\n",
        "\n",
        "dataset = pd.read_csv('https://raw.githubusercontent.com/Kuntal-G/Machine-Learning/master/R-machine-learning/data/banknote-authentication.csv')"
      ]
    },
    {
      "cell_type": "code",
      "source": [
        "dataset.head()"
      ],
      "metadata": {
        "colab": {
          "base_uri": "https://localhost:8080/",
          "height": 206
        },
        "id": "t5gT-Cs0pQcT",
        "outputId": "edcbeec1-d3c1-4d81-8ca7-7d8eba88676e"
      },
      "execution_count": null,
      "outputs": [
        {
          "output_type": "execute_result",
          "data": {
            "text/plain": [
              "   variance    skew  curtosis  entropy  class\n",
              "0   3.62160  8.6661   -2.8073 -0.44699      0\n",
              "1   4.54590  8.1674   -2.4586 -1.46210      0\n",
              "2   3.86600 -2.6383    1.9242  0.10645      0\n",
              "3   3.45660  9.5228   -4.0112 -3.59440      0\n",
              "4   0.32924 -4.4552    4.5718 -0.98880      0"
            ],
            "text/html": [
              "\n",
              "  <div id=\"df-81f6c400-4f69-4625-942d-6845065253b6\" class=\"colab-df-container\">\n",
              "    <div>\n",
              "<style scoped>\n",
              "    .dataframe tbody tr th:only-of-type {\n",
              "        vertical-align: middle;\n",
              "    }\n",
              "\n",
              "    .dataframe tbody tr th {\n",
              "        vertical-align: top;\n",
              "    }\n",
              "\n",
              "    .dataframe thead th {\n",
              "        text-align: right;\n",
              "    }\n",
              "</style>\n",
              "<table border=\"1\" class=\"dataframe\">\n",
              "  <thead>\n",
              "    <tr style=\"text-align: right;\">\n",
              "      <th></th>\n",
              "      <th>variance</th>\n",
              "      <th>skew</th>\n",
              "      <th>curtosis</th>\n",
              "      <th>entropy</th>\n",
              "      <th>class</th>\n",
              "    </tr>\n",
              "  </thead>\n",
              "  <tbody>\n",
              "    <tr>\n",
              "      <th>0</th>\n",
              "      <td>3.62160</td>\n",
              "      <td>8.6661</td>\n",
              "      <td>-2.8073</td>\n",
              "      <td>-0.44699</td>\n",
              "      <td>0</td>\n",
              "    </tr>\n",
              "    <tr>\n",
              "      <th>1</th>\n",
              "      <td>4.54590</td>\n",
              "      <td>8.1674</td>\n",
              "      <td>-2.4586</td>\n",
              "      <td>-1.46210</td>\n",
              "      <td>0</td>\n",
              "    </tr>\n",
              "    <tr>\n",
              "      <th>2</th>\n",
              "      <td>3.86600</td>\n",
              "      <td>-2.6383</td>\n",
              "      <td>1.9242</td>\n",
              "      <td>0.10645</td>\n",
              "      <td>0</td>\n",
              "    </tr>\n",
              "    <tr>\n",
              "      <th>3</th>\n",
              "      <td>3.45660</td>\n",
              "      <td>9.5228</td>\n",
              "      <td>-4.0112</td>\n",
              "      <td>-3.59440</td>\n",
              "      <td>0</td>\n",
              "    </tr>\n",
              "    <tr>\n",
              "      <th>4</th>\n",
              "      <td>0.32924</td>\n",
              "      <td>-4.4552</td>\n",
              "      <td>4.5718</td>\n",
              "      <td>-0.98880</td>\n",
              "      <td>0</td>\n",
              "    </tr>\n",
              "  </tbody>\n",
              "</table>\n",
              "</div>\n",
              "    <div class=\"colab-df-buttons\">\n",
              "\n",
              "  <div class=\"colab-df-container\">\n",
              "    <button class=\"colab-df-convert\" onclick=\"convertToInteractive('df-81f6c400-4f69-4625-942d-6845065253b6')\"\n",
              "            title=\"Convert this dataframe to an interactive table.\"\n",
              "            style=\"display:none;\">\n",
              "\n",
              "  <svg xmlns=\"http://www.w3.org/2000/svg\" height=\"24px\" viewBox=\"0 -960 960 960\">\n",
              "    <path d=\"M120-120v-720h720v720H120Zm60-500h600v-160H180v160Zm220 220h160v-160H400v160Zm0 220h160v-160H400v160ZM180-400h160v-160H180v160Zm440 0h160v-160H620v160ZM180-180h160v-160H180v160Zm440 0h160v-160H620v160Z\"/>\n",
              "  </svg>\n",
              "    </button>\n",
              "\n",
              "  <style>\n",
              "    .colab-df-container {\n",
              "      display:flex;\n",
              "      gap: 12px;\n",
              "    }\n",
              "\n",
              "    .colab-df-convert {\n",
              "      background-color: #E8F0FE;\n",
              "      border: none;\n",
              "      border-radius: 50%;\n",
              "      cursor: pointer;\n",
              "      display: none;\n",
              "      fill: #1967D2;\n",
              "      height: 32px;\n",
              "      padding: 0 0 0 0;\n",
              "      width: 32px;\n",
              "    }\n",
              "\n",
              "    .colab-df-convert:hover {\n",
              "      background-color: #E2EBFA;\n",
              "      box-shadow: 0px 1px 2px rgba(60, 64, 67, 0.3), 0px 1px 3px 1px rgba(60, 64, 67, 0.15);\n",
              "      fill: #174EA6;\n",
              "    }\n",
              "\n",
              "    .colab-df-buttons div {\n",
              "      margin-bottom: 4px;\n",
              "    }\n",
              "\n",
              "    [theme=dark] .colab-df-convert {\n",
              "      background-color: #3B4455;\n",
              "      fill: #D2E3FC;\n",
              "    }\n",
              "\n",
              "    [theme=dark] .colab-df-convert:hover {\n",
              "      background-color: #434B5C;\n",
              "      box-shadow: 0px 1px 3px 1px rgba(0, 0, 0, 0.15);\n",
              "      filter: drop-shadow(0px 1px 2px rgba(0, 0, 0, 0.3));\n",
              "      fill: #FFFFFF;\n",
              "    }\n",
              "  </style>\n",
              "\n",
              "    <script>\n",
              "      const buttonEl =\n",
              "        document.querySelector('#df-81f6c400-4f69-4625-942d-6845065253b6 button.colab-df-convert');\n",
              "      buttonEl.style.display =\n",
              "        google.colab.kernel.accessAllowed ? 'block' : 'none';\n",
              "\n",
              "      async function convertToInteractive(key) {\n",
              "        const element = document.querySelector('#df-81f6c400-4f69-4625-942d-6845065253b6');\n",
              "        const dataTable =\n",
              "          await google.colab.kernel.invokeFunction('convertToInteractive',\n",
              "                                                    [key], {});\n",
              "        if (!dataTable) return;\n",
              "\n",
              "        const docLinkHtml = 'Like what you see? Visit the ' +\n",
              "          '<a target=\"_blank\" href=https://colab.research.google.com/notebooks/data_table.ipynb>data table notebook</a>'\n",
              "          + ' to learn more about interactive tables.';\n",
              "        element.innerHTML = '';\n",
              "        dataTable['output_type'] = 'display_data';\n",
              "        await google.colab.output.renderOutput(dataTable, element);\n",
              "        const docLink = document.createElement('div');\n",
              "        docLink.innerHTML = docLinkHtml;\n",
              "        element.appendChild(docLink);\n",
              "      }\n",
              "    </script>\n",
              "  </div>\n",
              "\n",
              "\n",
              "<div id=\"df-eb8608af-ff97-4a48-bbbc-08cc0997a703\">\n",
              "  <button class=\"colab-df-quickchart\" onclick=\"quickchart('df-eb8608af-ff97-4a48-bbbc-08cc0997a703')\"\n",
              "            title=\"Suggest charts\"\n",
              "            style=\"display:none;\">\n",
              "\n",
              "<svg xmlns=\"http://www.w3.org/2000/svg\" height=\"24px\"viewBox=\"0 0 24 24\"\n",
              "     width=\"24px\">\n",
              "    <g>\n",
              "        <path d=\"M19 3H5c-1.1 0-2 .9-2 2v14c0 1.1.9 2 2 2h14c1.1 0 2-.9 2-2V5c0-1.1-.9-2-2-2zM9 17H7v-7h2v7zm4 0h-2V7h2v10zm4 0h-2v-4h2v4z\"/>\n",
              "    </g>\n",
              "</svg>\n",
              "  </button>\n",
              "\n",
              "<style>\n",
              "  .colab-df-quickchart {\n",
              "      --bg-color: #E8F0FE;\n",
              "      --fill-color: #1967D2;\n",
              "      --hover-bg-color: #E2EBFA;\n",
              "      --hover-fill-color: #174EA6;\n",
              "      --disabled-fill-color: #AAA;\n",
              "      --disabled-bg-color: #DDD;\n",
              "  }\n",
              "\n",
              "  [theme=dark] .colab-df-quickchart {\n",
              "      --bg-color: #3B4455;\n",
              "      --fill-color: #D2E3FC;\n",
              "      --hover-bg-color: #434B5C;\n",
              "      --hover-fill-color: #FFFFFF;\n",
              "      --disabled-bg-color: #3B4455;\n",
              "      --disabled-fill-color: #666;\n",
              "  }\n",
              "\n",
              "  .colab-df-quickchart {\n",
              "    background-color: var(--bg-color);\n",
              "    border: none;\n",
              "    border-radius: 50%;\n",
              "    cursor: pointer;\n",
              "    display: none;\n",
              "    fill: var(--fill-color);\n",
              "    height: 32px;\n",
              "    padding: 0;\n",
              "    width: 32px;\n",
              "  }\n",
              "\n",
              "  .colab-df-quickchart:hover {\n",
              "    background-color: var(--hover-bg-color);\n",
              "    box-shadow: 0 1px 2px rgba(60, 64, 67, 0.3), 0 1px 3px 1px rgba(60, 64, 67, 0.15);\n",
              "    fill: var(--button-hover-fill-color);\n",
              "  }\n",
              "\n",
              "  .colab-df-quickchart-complete:disabled,\n",
              "  .colab-df-quickchart-complete:disabled:hover {\n",
              "    background-color: var(--disabled-bg-color);\n",
              "    fill: var(--disabled-fill-color);\n",
              "    box-shadow: none;\n",
              "  }\n",
              "\n",
              "  .colab-df-spinner {\n",
              "    border: 2px solid var(--fill-color);\n",
              "    border-color: transparent;\n",
              "    border-bottom-color: var(--fill-color);\n",
              "    animation:\n",
              "      spin 1s steps(1) infinite;\n",
              "  }\n",
              "\n",
              "  @keyframes spin {\n",
              "    0% {\n",
              "      border-color: transparent;\n",
              "      border-bottom-color: var(--fill-color);\n",
              "      border-left-color: var(--fill-color);\n",
              "    }\n",
              "    20% {\n",
              "      border-color: transparent;\n",
              "      border-left-color: var(--fill-color);\n",
              "      border-top-color: var(--fill-color);\n",
              "    }\n",
              "    30% {\n",
              "      border-color: transparent;\n",
              "      border-left-color: var(--fill-color);\n",
              "      border-top-color: var(--fill-color);\n",
              "      border-right-color: var(--fill-color);\n",
              "    }\n",
              "    40% {\n",
              "      border-color: transparent;\n",
              "      border-right-color: var(--fill-color);\n",
              "      border-top-color: var(--fill-color);\n",
              "    }\n",
              "    60% {\n",
              "      border-color: transparent;\n",
              "      border-right-color: var(--fill-color);\n",
              "    }\n",
              "    80% {\n",
              "      border-color: transparent;\n",
              "      border-right-color: var(--fill-color);\n",
              "      border-bottom-color: var(--fill-color);\n",
              "    }\n",
              "    90% {\n",
              "      border-color: transparent;\n",
              "      border-bottom-color: var(--fill-color);\n",
              "    }\n",
              "  }\n",
              "</style>\n",
              "\n",
              "  <script>\n",
              "    async function quickchart(key) {\n",
              "      const quickchartButtonEl =\n",
              "        document.querySelector('#' + key + ' button');\n",
              "      quickchartButtonEl.disabled = true;  // To prevent multiple clicks.\n",
              "      quickchartButtonEl.classList.add('colab-df-spinner');\n",
              "      try {\n",
              "        const charts = await google.colab.kernel.invokeFunction(\n",
              "            'suggestCharts', [key], {});\n",
              "      } catch (error) {\n",
              "        console.error('Error during call to suggestCharts:', error);\n",
              "      }\n",
              "      quickchartButtonEl.classList.remove('colab-df-spinner');\n",
              "      quickchartButtonEl.classList.add('colab-df-quickchart-complete');\n",
              "    }\n",
              "    (() => {\n",
              "      let quickchartButtonEl =\n",
              "        document.querySelector('#df-eb8608af-ff97-4a48-bbbc-08cc0997a703 button');\n",
              "      quickchartButtonEl.style.display =\n",
              "        google.colab.kernel.accessAllowed ? 'block' : 'none';\n",
              "    })();\n",
              "  </script>\n",
              "</div>\n",
              "\n",
              "    </div>\n",
              "  </div>\n"
            ],
            "application/vnd.google.colaboratory.intrinsic+json": {
              "type": "dataframe",
              "variable_name": "dataset",
              "summary": "{\n  \"name\": \"dataset\",\n  \"rows\": 1372,\n  \"fields\": [\n    {\n      \"column\": \"variance\",\n      \"properties\": {\n        \"dtype\": \"number\",\n        \"std\": 2.8427625862785617,\n        \"min\": -7.0421,\n        \"max\": 6.8248,\n        \"num_unique_values\": 1338,\n        \"samples\": [\n          -2.286,\n          -0.539,\n          0.89512\n        ],\n        \"semantic_type\": \"\",\n        \"description\": \"\"\n      }\n    },\n    {\n      \"column\": \"skew\",\n      \"properties\": {\n        \"dtype\": \"number\",\n        \"std\": 5.869046743694848,\n        \"min\": -13.7731,\n        \"max\": 12.9516,\n        \"num_unique_values\": 1256,\n        \"samples\": [\n          11.2217,\n          -4.6145,\n          6.1499\n        ],\n        \"semantic_type\": \"\",\n        \"description\": \"\"\n      }\n    },\n    {\n      \"column\": \"curtosis\",\n      \"properties\": {\n        \"dtype\": \"number\",\n        \"std\": 4.310030090106596,\n        \"min\": -5.2861,\n        \"max\": 17.9274,\n        \"num_unique_values\": 1270,\n        \"samples\": [\n          7.8981,\n          9.8208,\n          0.20021\n        ],\n        \"semantic_type\": \"\",\n        \"description\": \"\"\n      }\n    },\n    {\n      \"column\": \"entropy\",\n      \"properties\": {\n        \"dtype\": \"number\",\n        \"std\": 2.10101313735961,\n        \"min\": -8.5482,\n        \"max\": 2.4495,\n        \"num_unique_values\": 1156,\n        \"samples\": [\n          1.0271,\n          0.90946,\n          -0.026738\n        ],\n        \"semantic_type\": \"\",\n        \"description\": \"\"\n      }\n    },\n    {\n      \"column\": \"class\",\n      \"properties\": {\n        \"dtype\": \"number\",\n        \"std\": 0,\n        \"min\": 0,\n        \"max\": 1,\n        \"num_unique_values\": 2,\n        \"samples\": [\n          1,\n          0\n        ],\n        \"semantic_type\": \"\",\n        \"description\": \"\"\n      }\n    }\n  ]\n}"
            }
          },
          "metadata": {},
          "execution_count": 82
        }
      ]
    },
    {
      "cell_type": "code",
      "source": [
        "X = dataset.drop(['class'], axis=1).values\n",
        "y = dataset['class'].values\n",
        "y = y.reshape(y.shape[0],1)"
      ],
      "metadata": {
        "id": "ddMWuzeNpWwd"
      },
      "execution_count": null,
      "outputs": []
    },
    {
      "cell_type": "code",
      "source": [
        "def define_parameters(n_weights):\n",
        "  w = np.random.randn(n_weights,1)\n",
        "  b = np.random.randn()\n",
        "  return w, b"
      ],
      "metadata": {
        "id": "BV2fbuHDqERi"
      },
      "execution_count": null,
      "outputs": []
    },
    {
      "cell_type": "code",
      "source": [
        "def sigmoid(x):\n",
        "  return 1/(1+np.exp(-x))"
      ],
      "metadata": {
        "id": "nOJtR7QNq9a6"
      },
      "execution_count": null,
      "outputs": []
    },
    {
      "cell_type": "code",
      "source": [
        "def sigmoid_der(x):\n",
        "  return sigmoid(x)*(1-sigmoid(x))"
      ],
      "metadata": {
        "id": "PdOTf19MrGva"
      },
      "execution_count": null,
      "outputs": []
    },
    {
      "cell_type": "code",
      "source": [
        "def predictions(w, b, X):\n",
        "  XW = np.dot(X,w) + b\n",
        "  z = sigmoid(XW)\n",
        "  return z"
      ],
      "metadata": {
        "id": "s3oBVDRctlxi"
      },
      "execution_count": null,
      "outputs": []
    },
    {
      "cell_type": "code",
      "source": [
        "def find_cost(z,y):\n",
        "  m = y.shape[0]\n",
        "  total_cost = (1/m)* np.sum(np.square(z-y))\n",
        "  return total_cost"
      ],
      "metadata": {
        "id": "XW4nswShXMIu"
      },
      "execution_count": null,
      "outputs": []
    },
    {
      "cell_type": "code",
      "source": [
        "def find_derivatives(X,y,z):\n",
        "  m = y.shape[0]\n",
        "  dcost_dpred = (1/m)*(z-y)\n",
        "  dpred_dz = sigmoid_der(z)\n",
        "  z_delta = dcost_dpred * dpred_dz\n",
        "  dz_dw = X.T\n",
        "  dw = np.dot(dz_dw, z_delta)\n",
        "  db = np.sum(z_delta)\n",
        "  return dw, db"
      ],
      "metadata": {
        "id": "ll_Guwz3t1Sn"
      },
      "execution_count": null,
      "outputs": []
    },
    {
      "cell_type": "code",
      "source": [
        "def update_weights(w, b, dw, db, lr):\n",
        "    w = w - lr*dw\n",
        "    b = b - lr*db\n",
        "    return w,b"
      ],
      "metadata": {
        "id": "k_F8dsIXzHo3"
      },
      "execution_count": null,
      "outputs": []
    },
    {
      "cell_type": "code",
      "source": [
        "def multi_logistic_regression(X, y, lr, epochs):\n",
        "  error_list = []\n",
        "  lenw = X.shape[1]\n",
        "  w, b = define_parameters(lenw)\n",
        "  for i in range(epochs):\n",
        "    z = predictions(w, b, X)\n",
        "    cost = find_cost(z, y)\n",
        "    error_list.append(cost)\n",
        "    dw, db = find_derivatives (X,y,z)\n",
        "    w, b = update_weights(w, b, dw, db, lr)\n",
        "    if i % 50 == 0:\n",
        "      print(cost)\n",
        "\n",
        "  return w, b, error_list\n"
      ],
      "metadata": {
        "id": "4Ym3j8B8zRF4"
      },
      "execution_count": null,
      "outputs": []
    },
    {
      "cell_type": "code",
      "source": [
        "lr = 0.05\n",
        "epochs = 2000\n",
        "w, b, error_list = multi_logistic_regression(X, y, lr, epochs)"
      ],
      "metadata": {
        "colab": {
          "base_uri": "https://localhost:8080/"
        },
        "id": "yXaVgrLr01Ae",
        "outputId": "73cb1d15-e677-4bb7-d599-03a45d6a89dd"
      },
      "execution_count": null,
      "outputs": [
        {
          "output_type": "stream",
          "name": "stdout",
          "text": [
            "0.4386473382547059\n",
            "0.35063612831450847\n",
            "0.18101909322131973\n",
            "0.12822044960247075\n",
            "0.10339953384086152\n",
            "0.08871298149475243\n",
            "0.07878768983642644\n",
            "0.07148387074088951\n",
            "0.06578804877933239\n",
            "0.061159949988192644\n",
            "0.05728504823426724\n",
            "0.05396712531804281\n",
            "0.051076739120235685\n",
            "0.04852449862289236\n",
            "0.04624628480687563\n",
            "0.044194622958454007\n",
            "0.042333407374601256\n",
            "0.040634544512948\n",
            "0.03907574167516761\n",
            "0.03763900566910242\n",
            "0.036309596173606726\n",
            "0.03507527888345194\n",
            "0.033925781447789675\n",
            "0.03285238977503837\n",
            "0.031847643507731976\n",
            "0.030905102864660146\n",
            "0.03001916770316648\n",
            "0.02918493537151008\n",
            "0.02839808777314463\n",
            "0.027654800707558963\n",
            "0.026951670395820113\n",
            "0.026285653404581076\n",
            "0.025654017119988066\n",
            "0.0250542986050484\n",
            "0.02448427017616912\n",
            "0.023941910408319122\n",
            "0.023425379559294423\n",
            "0.02293299861689624\n",
            "0.022463231336220343\n",
            "0.022014668760441142\n"
          ]
        }
      ]
    },
    {
      "cell_type": "code",
      "source": [
        "plt.plot(error_list)"
      ],
      "metadata": {
        "id": "TCmykFLW0_im",
        "colab": {
          "base_uri": "https://localhost:8080/",
          "height": 448
        },
        "outputId": "b94f766f-50de-45e2-9689-90c16a4f3414"
      },
      "execution_count": null,
      "outputs": [
        {
          "output_type": "execute_result",
          "data": {
            "text/plain": [
              "[<matplotlib.lines.Line2D at 0x7ff2c024b580>]"
            ]
          },
          "metadata": {},
          "execution_count": 93
        },
        {
          "output_type": "display_data",
          "data": {
            "text/plain": [
              "<Figure size 640x480 with 1 Axes>"
            ],
            "image/png": "[encoded data removed]"
          },
          "metadata": {}
        }
      ]
    },
    {
      "cell_type": "code",
      "source": [
        "z = predictions(w, b, X)\n",
        "y_pred = []\n",
        "for i in z:\n",
        "  if i > 0.5:\n",
        "    y_pred.append(1)\n",
        "  else:\n",
        "    y_pred.append(0)\n",
        "\n",
        "y_true = sum(y.tolist() , [])\n",
        "\n",
        "correct = 0\n",
        "for i in y_true :\n",
        "  if y[i] == y_pred[i]:\n",
        "    correct = correct + 1\n",
        "print(\"Accuracy: \" + str(correct/len(y_true) * 100))"
      ],
      "metadata": {
        "colab": {
          "base_uri": "https://localhost:8080/"
        },
        "id": "gDwiarGeNyDZ",
        "outputId": "95c36fc5-3c4f-4ada-ae02-384a2a46619d"
      },
      "execution_count": null,
      "outputs": [
        {
          "output_type": "stream",
          "name": "stdout",
          "text": [
            "Accuracy: 100.0\n"
          ]
        }
      ]
    },
    {
      "cell_type": "markdown",
      "source": [
        "# Neural Networks with Single Output from Scratch"
      ],
      "metadata": {
        "id": "2x4NcFk2Pb2u"
      }
    },
    {
      "cell_type": "code",
      "source": [
        "from sklearn import datasets\n",
        "import numpy as np\n",
        "import matplotlib.pyplot as plt\n",
        "%matplotlib inline\n",
        "\n",
        "np.random.seed(0)\n",
        "X, y = datasets.make_moons(100, noise=0.1)\n",
        "x1 = X[:,0]\n",
        "x2 = X[:,1]\n",
        "\n",
        "plt.figure(figsize=(10,7))\n",
        "plt.scatter(x1, x2, c= y, cmap=plt.cm.coolwarm)"
      ],
      "metadata": {
        "colab": {
          "base_uri": "https://localhost:8080/",
          "height": 617
        },
        "id": "3F_DNBvtPzv6",
        "outputId": "72fafc2c-2ebd-40e9-aa05-cf9f756b0179"
      },
      "execution_count": null,
      "outputs": [
        {
          "output_type": "execute_result",
          "data": {
            "text/plain": [
              "<matplotlib.collections.PathCollection at 0x7ff2c00c21d0>"
            ]
          },
          "metadata": {},
          "execution_count": 95
        },
        {
          "output_type": "display_data",
          "data": {
            "text/plain": [
              "<Figure size 1000x700 with 1 Axes>"
            ],
            "image/png": "[encoded data removed]"
          },
          "metadata": {}
        }
      ]
    },
    {
      "cell_type": "code",
      "source": [
        "y = y.reshape(y.shape[0],1)"
      ],
      "metadata": {
        "id": "BlJrkFACQlx8"
      },
      "execution_count": null,
      "outputs": []
    },
    {
      "cell_type": "code",
      "source": [
        "print(X.shape)\n",
        "print(y.shape)"
      ],
      "metadata": {
        "colab": {
          "base_uri": "https://localhost:8080/"
        },
        "id": "2PnVU8jDQpIy",
        "outputId": "f501bbe3-4cb2-499e-9b0b-a69e11aebd6d"
      },
      "execution_count": null,
      "outputs": [
        {
          "output_type": "stream",
          "name": "stdout",
          "text": [
            "(100, 2)\n",
            "(100, 1)\n"
          ]
        }
      ]
    },
    {
      "cell_type": "code",
      "source": [
        "def define_parameters(weights):\n",
        "  weight_list = []\n",
        "  bias_list = []\n",
        "  for i in range(len(weights) - 1):\n",
        "    w = np.random.randn(weights[i],weights[i+1])\n",
        "    b = np.random.randn()\n",
        "    weight_list.append(w)\n",
        "    bias_list.append(b)\n",
        "  return weight_list, bias_list"
      ],
      "metadata": {
        "id": "p8D1xwrHQsPN"
      },
      "execution_count": null,
      "outputs": []
    },
    {
      "cell_type": "code",
      "source": [
        "def sigmoid(x):\n",
        "  return 1/(1+np.exp(-x))"
      ],
      "metadata": {
        "id": "0SfoyUDRRmqR"
      },
      "execution_count": null,
      "outputs": []
    },
    {
      "cell_type": "code",
      "source": [
        "def sigmoid_der(x):\n",
        "  return sigmoid(x)*(1-sigmoid(x))"
      ],
      "metadata": {
        "id": "1edr8YFZRq-l"
      },
      "execution_count": null,
      "outputs": []
    },
    {
      "cell_type": "code",
      "source": [
        "def predictions(w , b, X):\n",
        "  zh = np.dot(X,w[0]) + b[0]\n",
        "  ah = sigmoid(zh)\n",
        "  zo = np.dot(ah,w[1]) + b[1]\n",
        "  ao = sigmoid(zo)\n",
        "  return ao"
      ],
      "metadata": {
        "id": "ZfRXFqCMRupi"
      },
      "execution_count": null,
      "outputs": []
    },
    {
      "cell_type": "code",
      "source": [
        "def find_cost(ao,y):\n",
        "  m = y.shape[0]\n",
        "  total_cost = (1/m)* np.sum(np.square(ao-y))\n",
        "  return total_cost"
      ],
      "metadata": {
        "id": "q9v-DTuTSEbF"
      },
      "execution_count": null,
      "outputs": []
    },
    {
      "cell_type": "code",
      "source": [
        "def find_derivatives(w , b, X):\n",
        "  zh = np.dot(X,w[0]) + b[0]\n",
        "  ah = sigmoid(zh)\n",
        "\n",
        "  zo = np.dot(ah,w[1]) + b[1]\n",
        "  ao = sigmoid(zo)\n",
        "\n",
        "  # Backpropagation phase 1\n",
        "  m = y.shape[0]\n",
        "  dcost_dao = (1/m)*(ao-y)\n",
        "  dao_dzo = sigmoid_der(zo)\n",
        "  dzo_dwo = ah.T\n",
        "\n",
        "  dwo = np.dot(dzo_dwo , dcost_dao * dao_dzo)\n",
        "  dbo = np.sum(dcost_dao * dao_dzo)\n",
        "\n",
        "  # Backpropagation phase 2\n",
        "\n",
        "  # dcost_wh = dcost_dah * dah_dzh * dzh_dwh\n",
        "  # dcost_dah = dcost_dzo * dzo_dah\n",
        "\n",
        "  dcost_dzo = dcost_dao * dao_dzo\n",
        "  dzo_dah = w[1].T\n",
        "\n",
        "  dcost_dah = np.dot(dcost_dzo , dzo_dah)\n",
        "\n",
        "  dah_dzh = sigmoid_der(zh)\n",
        "  dzh_dwh = X.T\n",
        "  dwh = np.dot(dzh_dwh , dah_dzh * dcost_dah)\n",
        "  dbh = np.sum(dah_dzh * dcost_dah)\n",
        "\n",
        "  return dwh, dbh, dwo, dbo"
      ],
      "metadata": {
        "id": "2q5N1UCBSSjN"
      },
      "execution_count": null,
      "outputs": []
    },
    {
      "cell_type": "code",
      "source": [
        "def update_weights(w , b, dwh, dbh, dwo, dbo, lr):\n",
        "  w[0] = w[0] - lr*dwh\n",
        "  w[1] = w[1] - lr*dwo\n",
        "  b[0] = b[0] - lr*dbh\n",
        "  b[1] = b[1] - lr*dbo\n",
        "\n",
        "  return w, b"
      ],
      "metadata": {
        "id": "wvEua_yLTuqd"
      },
      "execution_count": null,
      "outputs": []
    },
    {
      "cell_type": "code",
      "source": [
        "def my_neural_network(X , y, lr, epochs):\n",
        "  error_list = []\n",
        "  input_len = X.shape[1]\n",
        "  output_len = y.shape[1]\n",
        "  w, b = define_parameters([input_len , 4 ,output_len])\n",
        "\n",
        "  for i in range(epochs):\n",
        "    ao = predictions(w, b, X)\n",
        "    cost = find_cost(ao, y)\n",
        "    error_list.append(cost)\n",
        "    dwh, dbh, dwo, dbo = find_derivatives(w, b, X)\n",
        "    w, b = update_weights(w, b, dwh, dbh, dwo, dbo, lr)\n",
        "    if i % 50 == 0:\n",
        "      print(cost)\n",
        "\n",
        "  return w, b, error_list"
      ],
      "metadata": {
        "id": "fE2UFQ4WTCa8"
      },
      "execution_count": null,
      "outputs": []
    },
    {
      "cell_type": "code",
      "source": [
        "lr = 0.5\n",
        "epochs = 2000\n",
        "w, b, error_list = my_neural_network(X, y, lr, epochs)"
      ],
      "metadata": {
        "colab": {
          "base_uri": "https://localhost:8080/"
        },
        "id": "8p_zo3G7UgTY",
        "outputId": "bdbc1536-1df2-4fec-f465-f612a0e27e7f"
      },
      "execution_count": null,
      "outputs": [
        {
          "output_type": "stream",
          "name": "stdout",
          "text": [
            "0.420576773526906\n",
            "0.1465387851789338\n",
            "0.12617746238650168\n",
            "0.11570597079471208\n",
            "0.10850813272509596\n",
            "0.10337608010852294\n",
            "0.09958560452217739\n",
            "0.09670335366165751\n",
            "0.09446206947265266\n",
            "0.0926891984440786\n",
            "0.09126791271989423\n",
            "0.09011580416073578\n",
            "0.08917288078317867\n",
            "0.0883944589996478\n",
            "0.08774670296567845\n",
            "0.08720366848471853\n",
            "0.08674525781893187\n",
            "0.08635576132720636\n",
            "0.08602279652438301\n",
            "0.08573652577983962\n",
            "0.08548907373090579\n",
            "0.08527408984725415\n",
            "0.08508641749767577\n",
            "0.08492184175007911\n",
            "0.08477689577303969\n",
            "0.08464871114727117\n",
            "0.08453490130214526\n",
            "0.08443347011357041\n",
            "0.08434273974659046\n",
            "0.08426129331873805\n",
            "0.0841879290544539\n",
            "0.08412162340775241\n",
            "0.08406150122892356\n",
            "0.0840068114979951\n",
            "0.08395690748351937\n",
            "0.08391123043924369\n",
            "0.0838692961445392\n",
            "0.08383068374251369\n",
            "0.08379502644380786\n",
            "0.08376200375248426\n"
          ]
        }
      ]
    }
  ]
}